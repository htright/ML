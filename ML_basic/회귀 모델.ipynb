{
 "cells": [
  {
   "cell_type": "markdown",
   "id": "fd3214bb",
   "metadata": {},
   "source": [
    "## 1. numpy 라이브러리를 활용해, 최적의 선형 회귀 모델 찾기"
   ]
  },
  {
   "cell_type": "markdown",
   "id": "6d4847d3",
   "metadata": {},
   "source": [
    "선형 회귀 모델은 일반적으로 MSE(Mean Squared Error) 손실을 최소화하도록 학습"
   ]
  },
  {
   "cell_type": "markdown",
   "id": "ef528485",
   "metadata": {},
   "source": [
    "**MSE 손실 함수**\n",
    "\\begin{equation*}\n",
    "\\left( \\frac{1}{n} \\sum_{i=1}^n (y_i - (wX_i + b))^2 \\right)\n",
    "\\end{equation*}\n",
    "\n",
    "**Gradients 계산**\n",
    "\\begin{equation*}\n",
    "\\frac{\\partial L}{\\partial w} = -2 * \\frac{1}{n} \\sum_{i=1}^n (y_i - (wX_i + b)) * X_i\n",
    "\\end{equation*}\n",
    "\n",
    "\\begin{equation*}\n",
    "\\frac{\\partial L}{\\partial b} = -2 * \\frac{1}{n} \\sum_{i=1}^n (y_i - (wX_i + b))\n",
    "\\end{equation*}"
   ]
  },
  {
   "cell_type": "code",
   "execution_count": 4,
   "id": "27509e6d",
   "metadata": {},
   "outputs": [],
   "source": [
    "import numpy as np"
   ]
  },
  {
   "cell_type": "code",
   "execution_count": 6,
   "id": "74aefb97",
   "metadata": {},
   "outputs": [],
   "source": [
    "def gd_numpy(X, y, epochs, lr):\n",
    "    # 초기화\n",
    "    w = 0.0\n",
    "    b = 0.0\n",
    "\n",
    "    # Store model parameters and loss for visualization\n",
    "    w_list, b_list, loss_list = [], [], []\n",
    "\n",
    "    # Perform Gradient Descent\n",
    "    for i in range(epochs):\n",
    "\n",
    "        loss = np.mean((y-(w*X+b))**2)   # MSE loss\n",
    "\n",
    "        dw = -2 * np.mean(y-(w*X+b))*X   # derivative w.r.t to w\n",
    "        db = -2 * np.mean(y-(w*X+b))   # derivative w.r.t to b\n",
    "        \n",
    "\n",
    "        w = w - dw * lr   # update w\n",
    "        b = b - db * lr   # update b\n",
    "\n",
    "        w_list.append(w)\n",
    "        b_list.append(b)\n",
    "        loss_list.append(loss)\n",
    "\n",
    "    print('Trained model weights : %.4f' % w)\n",
    "    print('Trained model bias : %.4f' % b)\n",
    "    \n",
    "    return w, b, w_list, b_list, loss_list                          \n",
    "\n",
    "                          "
   ]
  }
 ],
 "metadata": {
  "kernelspec": {
   "display_name": "Python 3 (ipykernel)",
   "language": "python",
   "name": "python3"
  },
  "language_info": {
   "codemirror_mode": {
    "name": "ipython",
    "version": 3
   },
   "file_extension": ".py",
   "mimetype": "text/x-python",
   "name": "python",
   "nbconvert_exporter": "python",
   "pygments_lexer": "ipython3",
   "version": "3.9.7"
  }
 },
 "nbformat": 4,
 "nbformat_minor": 5
}
