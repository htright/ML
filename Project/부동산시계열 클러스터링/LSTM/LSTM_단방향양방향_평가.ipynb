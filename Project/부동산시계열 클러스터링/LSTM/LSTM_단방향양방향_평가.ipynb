{
 "cells": [
  {
   "cell_type": "markdown",
   "id": "b928f4d7",
   "metadata": {},
   "source": [
    "# 단방향"
   ]
  },
  {
   "cell_type": "code",
   "execution_count": 42,
   "id": "4ea9b14d",
   "metadata": {},
   "outputs": [],
   "source": [
    "import pandas as pd\n",
    "import numpy as np"
   ]
  },
  {
   "cell_type": "code",
   "execution_count": 43,
   "id": "28b61aa0",
   "metadata": {},
   "outputs": [],
   "source": [
    "o_pred = pd.read_csv(\"단방향.csv\", index_col=\"date\")"
   ]
  },
  {
   "cell_type": "code",
   "execution_count": 44,
   "id": "44eca35e",
   "metadata": {},
   "outputs": [],
   "source": [
    "o_real = pd.read_csv(\"실제값.csv\", index_col=\"date\")"
   ]
  },
  {
   "cell_type": "markdown",
   "id": "0c0a962f",
   "metadata": {},
   "source": [
    "## RMSE"
   ]
  },
  {
   "cell_type": "code",
   "execution_count": 45,
   "id": "58522eb0",
   "metadata": {},
   "outputs": [],
   "source": [
    "o_RMSE = np.sqrt((o_real-o_pred)**2)"
   ]
  },
  {
   "cell_type": "code",
   "execution_count": 47,
   "id": "0b608e77",
   "metadata": {},
   "outputs": [
    {
     "data": {
      "text/html": [
       "<div>\n",
       "<style scoped>\n",
       "    .dataframe tbody tr th:only-of-type {\n",
       "        vertical-align: middle;\n",
       "    }\n",
       "\n",
       "    .dataframe tbody tr th {\n",
       "        vertical-align: top;\n",
       "    }\n",
       "\n",
       "    .dataframe thead th {\n",
       "        text-align: right;\n",
       "    }\n",
       "</style>\n",
       "<table border=\"1\" class=\"dataframe\">\n",
       "  <thead>\n",
       "    <tr style=\"text-align: right;\">\n",
       "      <th></th>\n",
       "      <th>수원시</th>\n",
       "      <th>성남시</th>\n",
       "      <th>안양시</th>\n",
       "      <th>부천시</th>\n",
       "      <th>광명시</th>\n",
       "      <th>안산시</th>\n",
       "      <th>고양시</th>\n",
       "      <th>과천시</th>\n",
       "      <th>구리시</th>\n",
       "      <th>남양주시</th>\n",
       "      <th>...</th>\n",
       "      <th>이천시</th>\n",
       "      <th>안성시</th>\n",
       "      <th>포천시</th>\n",
       "      <th>여주시</th>\n",
       "      <th>의정부시</th>\n",
       "      <th>오산시</th>\n",
       "      <th>파주시</th>\n",
       "      <th>화성시</th>\n",
       "      <th>광주시</th>\n",
       "      <th>양주시</th>\n",
       "    </tr>\n",
       "    <tr>\n",
       "      <th>date</th>\n",
       "      <th></th>\n",
       "      <th></th>\n",
       "      <th></th>\n",
       "      <th></th>\n",
       "      <th></th>\n",
       "      <th></th>\n",
       "      <th></th>\n",
       "      <th></th>\n",
       "      <th></th>\n",
       "      <th></th>\n",
       "      <th></th>\n",
       "      <th></th>\n",
       "      <th></th>\n",
       "      <th></th>\n",
       "      <th></th>\n",
       "      <th></th>\n",
       "      <th></th>\n",
       "      <th></th>\n",
       "      <th></th>\n",
       "      <th></th>\n",
       "      <th></th>\n",
       "    </tr>\n",
       "  </thead>\n",
       "  <tbody>\n",
       "    <tr>\n",
       "      <th>2022-01-01</th>\n",
       "      <td>3.974461</td>\n",
       "      <td>0.302920</td>\n",
       "      <td>0.044558</td>\n",
       "      <td>0.271303</td>\n",
       "      <td>1.047993</td>\n",
       "      <td>12.778983</td>\n",
       "      <td>0.661085</td>\n",
       "      <td>0.097523</td>\n",
       "      <td>7.329131</td>\n",
       "      <td>3.284922</td>\n",
       "      <td>...</td>\n",
       "      <td>1.238853</td>\n",
       "      <td>11.085668</td>\n",
       "      <td>1.937076</td>\n",
       "      <td>0.354075</td>\n",
       "      <td>11.419032</td>\n",
       "      <td>24.907816</td>\n",
       "      <td>0.399477</td>\n",
       "      <td>0.120659</td>\n",
       "      <td>0.625181</td>\n",
       "      <td>1.012367</td>\n",
       "    </tr>\n",
       "    <tr>\n",
       "      <th>2022-02-01</th>\n",
       "      <td>5.865775</td>\n",
       "      <td>3.175079</td>\n",
       "      <td>5.320750</td>\n",
       "      <td>0.489997</td>\n",
       "      <td>1.401706</td>\n",
       "      <td>2.489284</td>\n",
       "      <td>5.411468</td>\n",
       "      <td>0.097523</td>\n",
       "      <td>10.792186</td>\n",
       "      <td>1.240883</td>\n",
       "      <td>...</td>\n",
       "      <td>2.138853</td>\n",
       "      <td>11.185668</td>\n",
       "      <td>3.634249</td>\n",
       "      <td>0.394033</td>\n",
       "      <td>11.319032</td>\n",
       "      <td>2.522362</td>\n",
       "      <td>1.086113</td>\n",
       "      <td>0.379341</td>\n",
       "      <td>1.061118</td>\n",
       "      <td>0.412616</td>\n",
       "    </tr>\n",
       "    <tr>\n",
       "      <th>2022-03-01</th>\n",
       "      <td>9.280536</td>\n",
       "      <td>14.308716</td>\n",
       "      <td>6.241813</td>\n",
       "      <td>0.136976</td>\n",
       "      <td>4.252173</td>\n",
       "      <td>28.039710</td>\n",
       "      <td>3.558147</td>\n",
       "      <td>0.397524</td>\n",
       "      <td>6.506503</td>\n",
       "      <td>1.598241</td>\n",
       "      <td>...</td>\n",
       "      <td>3.438853</td>\n",
       "      <td>11.685668</td>\n",
       "      <td>5.369514</td>\n",
       "      <td>0.515312</td>\n",
       "      <td>11.319032</td>\n",
       "      <td>38.924789</td>\n",
       "      <td>0.979420</td>\n",
       "      <td>4.875896</td>\n",
       "      <td>0.612385</td>\n",
       "      <td>1.504791</td>\n",
       "    </tr>\n",
       "  </tbody>\n",
       "</table>\n",
       "<p>3 rows × 28 columns</p>\n",
       "</div>"
      ],
      "text/plain": [
       "                 수원시        성남시       안양시       부천시       광명시        안산시  \\\n",
       "date                                                                       \n",
       "2022-01-01  3.974461   0.302920  0.044558  0.271303  1.047993  12.778983   \n",
       "2022-02-01  5.865775   3.175079  5.320750  0.489997  1.401706   2.489284   \n",
       "2022-03-01  9.280536  14.308716  6.241813  0.136976  4.252173  28.039710   \n",
       "\n",
       "                 고양시       과천시        구리시      남양주시  ...       이천시        안성시  \\\n",
       "date                                                 ...                        \n",
       "2022-01-01  0.661085  0.097523   7.329131  3.284922  ...  1.238853  11.085668   \n",
       "2022-02-01  5.411468  0.097523  10.792186  1.240883  ...  2.138853  11.185668   \n",
       "2022-03-01  3.558147  0.397524   6.506503  1.598241  ...  3.438853  11.685668   \n",
       "\n",
       "                 포천시       여주시       의정부시        오산시       파주시       화성시  \\\n",
       "date                                                                       \n",
       "2022-01-01  1.937076  0.354075  11.419032  24.907816  0.399477  0.120659   \n",
       "2022-02-01  3.634249  0.394033  11.319032   2.522362  1.086113  0.379341   \n",
       "2022-03-01  5.369514  0.515312  11.319032  38.924789  0.979420  4.875896   \n",
       "\n",
       "                 광주시       양주시  \n",
       "date                            \n",
       "2022-01-01  0.625181  1.012367  \n",
       "2022-02-01  1.061118  0.412616  \n",
       "2022-03-01  0.612385  1.504791  \n",
       "\n",
       "[3 rows x 28 columns]"
      ]
     },
     "execution_count": 47,
     "metadata": {},
     "output_type": "execute_result"
    }
   ],
   "source": [
    "o_RMSE"
   ]
  },
  {
   "cell_type": "markdown",
   "id": "6fe7b9e4",
   "metadata": {},
   "source": [
    "## MAPE"
   ]
  },
  {
   "cell_type": "code",
   "execution_count": 61,
   "id": "e9372233",
   "metadata": {},
   "outputs": [],
   "source": [
    "o_MAPE = ((abs(o_real-o_pred))/o_real)"
   ]
  },
  {
   "cell_type": "code",
   "execution_count": 62,
   "id": "39efb8d0",
   "metadata": {
    "scrolled": false
   },
   "outputs": [
    {
     "data": {
      "text/html": [
       "<div>\n",
       "<style scoped>\n",
       "    .dataframe tbody tr th:only-of-type {\n",
       "        vertical-align: middle;\n",
       "    }\n",
       "\n",
       "    .dataframe tbody tr th {\n",
       "        vertical-align: top;\n",
       "    }\n",
       "\n",
       "    .dataframe thead th {\n",
       "        text-align: right;\n",
       "    }\n",
       "</style>\n",
       "<table border=\"1\" class=\"dataframe\">\n",
       "  <thead>\n",
       "    <tr style=\"text-align: right;\">\n",
       "      <th></th>\n",
       "      <th>수원시</th>\n",
       "      <th>성남시</th>\n",
       "      <th>안양시</th>\n",
       "      <th>부천시</th>\n",
       "      <th>광명시</th>\n",
       "      <th>안산시</th>\n",
       "      <th>고양시</th>\n",
       "      <th>과천시</th>\n",
       "      <th>구리시</th>\n",
       "      <th>남양주시</th>\n",
       "      <th>...</th>\n",
       "      <th>이천시</th>\n",
       "      <th>안성시</th>\n",
       "      <th>포천시</th>\n",
       "      <th>여주시</th>\n",
       "      <th>의정부시</th>\n",
       "      <th>오산시</th>\n",
       "      <th>파주시</th>\n",
       "      <th>화성시</th>\n",
       "      <th>광주시</th>\n",
       "      <th>양주시</th>\n",
       "    </tr>\n",
       "    <tr>\n",
       "      <th>date</th>\n",
       "      <th></th>\n",
       "      <th></th>\n",
       "      <th></th>\n",
       "      <th></th>\n",
       "      <th></th>\n",
       "      <th></th>\n",
       "      <th></th>\n",
       "      <th></th>\n",
       "      <th></th>\n",
       "      <th></th>\n",
       "      <th></th>\n",
       "      <th></th>\n",
       "      <th></th>\n",
       "      <th></th>\n",
       "      <th></th>\n",
       "      <th></th>\n",
       "      <th></th>\n",
       "      <th></th>\n",
       "      <th></th>\n",
       "      <th></th>\n",
       "      <th></th>\n",
       "    </tr>\n",
       "  </thead>\n",
       "  <tbody>\n",
       "    <tr>\n",
       "      <th>2022-01-01</th>\n",
       "      <td>0.036197</td>\n",
       "      <td>0.002882</td>\n",
       "      <td>0.000399</td>\n",
       "      <td>0.002449</td>\n",
       "      <td>0.009767</td>\n",
       "      <td>0.114816</td>\n",
       "      <td>0.006115</td>\n",
       "      <td>0.000943</td>\n",
       "      <td>0.068948</td>\n",
       "      <td>0.030054</td>\n",
       "      <td>...</td>\n",
       "      <td>0.010934</td>\n",
       "      <td>0.094830</td>\n",
       "      <td>0.017739</td>\n",
       "      <td>0.003306</td>\n",
       "      <td>0.106322</td>\n",
       "      <td>0.213252</td>\n",
       "      <td>0.003716</td>\n",
       "      <td>0.001082</td>\n",
       "      <td>0.005751</td>\n",
       "      <td>0.009220</td>\n",
       "    </tr>\n",
       "    <tr>\n",
       "      <th>2022-02-01</th>\n",
       "      <td>0.053520</td>\n",
       "      <td>0.030239</td>\n",
       "      <td>0.047677</td>\n",
       "      <td>0.004426</td>\n",
       "      <td>0.013063</td>\n",
       "      <td>0.022366</td>\n",
       "      <td>0.050106</td>\n",
       "      <td>0.000943</td>\n",
       "      <td>0.101526</td>\n",
       "      <td>0.011353</td>\n",
       "      <td>...</td>\n",
       "      <td>0.018729</td>\n",
       "      <td>0.095604</td>\n",
       "      <td>0.033250</td>\n",
       "      <td>0.003679</td>\n",
       "      <td>0.105490</td>\n",
       "      <td>0.021633</td>\n",
       "      <td>0.010075</td>\n",
       "      <td>0.003417</td>\n",
       "      <td>0.009762</td>\n",
       "      <td>0.003761</td>\n",
       "    </tr>\n",
       "    <tr>\n",
       "      <th>2022-03-01</th>\n",
       "      <td>0.084831</td>\n",
       "      <td>0.136273</td>\n",
       "      <td>0.056131</td>\n",
       "      <td>0.001238</td>\n",
       "      <td>0.039666</td>\n",
       "      <td>0.252156</td>\n",
       "      <td>0.032976</td>\n",
       "      <td>0.003856</td>\n",
       "      <td>0.061209</td>\n",
       "      <td>0.014636</td>\n",
       "      <td>...</td>\n",
       "      <td>0.029774</td>\n",
       "      <td>0.099452</td>\n",
       "      <td>0.049126</td>\n",
       "      <td>0.004812</td>\n",
       "      <td>0.105490</td>\n",
       "      <td>0.335848</td>\n",
       "      <td>0.009069</td>\n",
       "      <td>0.044166</td>\n",
       "      <td>0.005644</td>\n",
       "      <td>0.013705</td>\n",
       "    </tr>\n",
       "  </tbody>\n",
       "</table>\n",
       "<p>3 rows × 28 columns</p>\n",
       "</div>"
      ],
      "text/plain": [
       "                 수원시       성남시       안양시       부천시       광명시       안산시  \\\n",
       "date                                                                     \n",
       "2022-01-01  0.036197  0.002882  0.000399  0.002449  0.009767  0.114816   \n",
       "2022-02-01  0.053520  0.030239  0.047677  0.004426  0.013063  0.022366   \n",
       "2022-03-01  0.084831  0.136273  0.056131  0.001238  0.039666  0.252156   \n",
       "\n",
       "                 고양시       과천시       구리시      남양주시  ...       이천시       안성시  \\\n",
       "date                                                ...                       \n",
       "2022-01-01  0.006115  0.000943  0.068948  0.030054  ...  0.010934  0.094830   \n",
       "2022-02-01  0.050106  0.000943  0.101526  0.011353  ...  0.018729  0.095604   \n",
       "2022-03-01  0.032976  0.003856  0.061209  0.014636  ...  0.029774  0.099452   \n",
       "\n",
       "                 포천시       여주시      의정부시       오산시       파주시       화성시  \\\n",
       "date                                                                     \n",
       "2022-01-01  0.017739  0.003306  0.106322  0.213252  0.003716  0.001082   \n",
       "2022-02-01  0.033250  0.003679  0.105490  0.021633  0.010075  0.003417   \n",
       "2022-03-01  0.049126  0.004812  0.105490  0.335848  0.009069  0.044166   \n",
       "\n",
       "                 광주시       양주시  \n",
       "date                            \n",
       "2022-01-01  0.005751  0.009220  \n",
       "2022-02-01  0.009762  0.003761  \n",
       "2022-03-01  0.005644  0.013705  \n",
       "\n",
       "[3 rows x 28 columns]"
      ]
     },
     "execution_count": 62,
     "metadata": {},
     "output_type": "execute_result"
    }
   ],
   "source": [
    "o_MAPE"
   ]
  },
  {
   "cell_type": "markdown",
   "id": "0bfc3d99",
   "metadata": {},
   "source": [
    "## to_excel"
   ]
  },
  {
   "cell_type": "code",
   "execution_count": 63,
   "id": "6fac7529",
   "metadata": {},
   "outputs": [],
   "source": [
    "o_RMSE.to_excel(\"o_RMSE.xlsx\")\n",
    "o_MAPE.to_excel(\"o_MAPE.xlsx\")"
   ]
  },
  {
   "cell_type": "markdown",
   "id": "045055ad",
   "metadata": {},
   "source": [
    "# 양방향"
   ]
  },
  {
   "cell_type": "code",
   "execution_count": 64,
   "id": "8dbefa73",
   "metadata": {},
   "outputs": [],
   "source": [
    "b_pred = pd.read_csv(\"양방향.csv\", index_col=\"date\")"
   ]
  },
  {
   "cell_type": "code",
   "execution_count": 65,
   "id": "a34bbd35",
   "metadata": {},
   "outputs": [],
   "source": [
    "b_real = pd.read_csv(\"실제값.csv\", index_col=\"date\")"
   ]
  },
  {
   "cell_type": "markdown",
   "id": "f0671f0e",
   "metadata": {},
   "source": [
    "## RMSE"
   ]
  },
  {
   "cell_type": "code",
   "execution_count": 66,
   "id": "60db1ce4",
   "metadata": {},
   "outputs": [],
   "source": [
    "b_RMSE = np.sqrt((b_real-b_pred)**2)"
   ]
  },
  {
   "cell_type": "markdown",
   "id": "4df089b7",
   "metadata": {},
   "source": [
    "## MAPE"
   ]
  },
  {
   "cell_type": "code",
   "execution_count": 67,
   "id": "016e6657",
   "metadata": {},
   "outputs": [],
   "source": [
    "b_MAPE = ((abs(b_real-b_pred))/b_real)"
   ]
  },
  {
   "cell_type": "markdown",
   "id": "7085fc85",
   "metadata": {},
   "source": [
    "## to_excel"
   ]
  },
  {
   "cell_type": "code",
   "execution_count": 69,
   "id": "0a0b97eb",
   "metadata": {},
   "outputs": [],
   "source": [
    "b_RMSE.to_excel(\"b_RMSE.xlsx\")\n",
    "b_MAPE.to_excel(\"b_MAPE.xlsx\")"
   ]
  },
  {
   "cell_type": "code",
   "execution_count": null,
   "id": "6dcb47be",
   "metadata": {},
   "outputs": [],
   "source": []
  }
 ],
 "metadata": {
  "kernelspec": {
   "display_name": "Python 3 (ipykernel)",
   "language": "python",
   "name": "python3"
  },
  "language_info": {
   "codemirror_mode": {
    "name": "ipython",
    "version": 3
   },
   "file_extension": ".py",
   "mimetype": "text/x-python",
   "name": "python",
   "nbconvert_exporter": "python",
   "pygments_lexer": "ipython3",
   "version": "3.9.7"
  }
 },
 "nbformat": 4,
 "nbformat_minor": 5
}
